{
 "cells": [
  {
   "cell_type": "markdown",
   "id": "664a4396-ad44-4439-be20-967ac6cbae87",
   "metadata": {},
   "source": [
    "Q1:- Ans\n",
    "Abstraction is a fundamental concept in Object-Oriented Programming (OOP) that allows you to focus on essential features of an object, while ignoring its implementation details. In simple terms, abstraction is the process of identifying and defining the essential characteristics of an object that are relevant to your program, while hiding or abstracting away the details that are not necessary."
   ]
  },
  {
   "cell_type": "code",
   "execution_count": 5,
   "id": "35f6b62d-f4a8-4328-9bc3-774190aad8c7",
   "metadata": {},
   "outputs": [
    {
     "name": "stdout",
     "output_type": "stream",
     "text": [
      "The dog walks on four legs.\n",
      "The fish swims in water.\n"
     ]
    }
   ],
   "source": [
    "from abc import ABC, abstractmethod\n",
    "\n",
    "class Animal(ABC):\n",
    "    @abstractmethod\n",
    "    def move(self):\n",
    "        pass\n",
    "\n",
    "class Dog(Animal):\n",
    "    def move(self):\n",
    "        print(\"The dog walks on four legs.\")\n",
    "\n",
    "class Fish(Animal):\n",
    "    def move(self):\n",
    "        print(\"The fish swims in water.\")\n",
    "\n",
    "dog = Dog()\n",
    "dog.move() \n",
    "\n",
    "fish = Fish()\n",
    "fish.move()\n"
   ]
  },
  {
   "cell_type": "markdown",
   "id": "7d0ba2e3-f433-4ad9-9721-2358f751783e",
   "metadata": {},
   "source": [
    "Q2:- Ans\n",
    "Abstraction is the process of identifying and defining the essential characteristics of an object that are relevant to your program, while hiding or abstracting away the details that are not necessary. It focuses on the essential behavior of an object, while ignoring its implementation details. Abstraction is achieved through the use of abstract classes and interfaces.\n",
    "\n",
    "Encapsulation, on the other hand, is the process of bundling data and methods that operate on that data within a single unit or class, and restricting access to the internal details of the object from outside the class. It allows for the data and methods to be hidden and protected from outside interference or misuse, and promotes modularity and reusability.\n",
    "\n",
    "In simpler terms, Abstraction is about hiding the implementation details, while Encapsulation is about hiding the data from the outside world."
   ]
  },
  {
   "cell_type": "code",
   "execution_count": 6,
   "id": "b1802239-1954-4bc2-a9eb-9ab27ce56d60",
   "metadata": {},
   "outputs": [
    {
     "name": "stdout",
     "output_type": "stream",
     "text": [
      "50\n",
      "78.5\n"
     ]
    }
   ],
   "source": [
    "from abc import ABC, abstractmethod\n",
    "\n",
    "class Shape(ABC):\n",
    "    @abstractmethod\n",
    "    def area(self):\n",
    "        pass\n",
    "\n",
    "class Rectangle(Shape):\n",
    "    def __init__(self, length, width):\n",
    "        self.__length = length\n",
    "        self.__width = width\n",
    "\n",
    "    def area(self):\n",
    "        return self.__length * self.__width\n",
    "\n",
    "class Circle(Shape):\n",
    "    def __init__(self, radius):\n",
    "        self.__radius = radius\n",
    "\n",
    "    def area(self):\n",
    "        return 3.14 * (self.__radius ** 2)\n",
    "\n",
    "rectangle = Rectangle(5, 10)\n",
    "print(rectangle.area()) # Output: 50\n",
    "\n",
    "circle = Circle(5)\n",
    "print(circle.area()) # Output: 78.5\n"
   ]
  },
  {
   "cell_type": "markdown",
   "id": "619e8721-b8d9-46a8-940b-ac2ca5a7967c",
   "metadata": {},
   "source": [
    "Q3:-Ans\n",
    "The abc module in Python stands for Abstract Base Classes. It provides a way to define abstract classes in Python.\n",
    "\n",
    "An abstract class is a class that cannot be instantiated and is meant to be subclassed by other classes. It contains one or more abstract methods, which are methods that have no implementation and are meant to be overridden by the subclasses.\n",
    "\n",
    "The abc module provides the ABC class, which is used to define abstract classes in Python. The abstractmethod decorator is used to define abstract methods in the abstract class.\n",
    "\n",
    "\n",
    "The abc module is used for the following purposes:\n",
    "\n",
    "1.Defining abstract classes: The abc module provides a way to define abstract classes in Python. Abstract classes can be used to define a set of methods that the subclasses should implement, while also providing some default behavior.\n",
    "\n",
    "2.Enforcing method overriding: By defining abstract methods in the abstract class, the abc module enforces that the subclasses must override these methods. If a subclass does not implement the abstract methods, a TypeError will be raised.\n",
    "\n",
    "3.Creating interfaces: An interface is a collection of methods that a class should implement, without providing any implementation details. The abc module can be used to define interfaces in Python by using the ABC class and abstractmethod decorator."
   ]
  },
  {
   "cell_type": "code",
   "execution_count": 7,
   "id": "0e023214-750f-447c-8482-c0abc8786567",
   "metadata": {},
   "outputs": [
    {
     "name": "stdout",
     "output_type": "stream",
     "text": [
      "The dog walks on four legs.\n"
     ]
    }
   ],
   "source": [
    "# example of ABC module\n",
    "from abc import ABC, abstractmethod\n",
    "\n",
    "class Animal(ABC):\n",
    "    @abstractmethod\n",
    "    def move(self):\n",
    "        pass\n",
    "\n",
    "class Dog(Animal):\n",
    "    def move(self):\n",
    "        print(\"The dog walks on four legs.\")\n",
    "\n",
    "dog = Dog()\n",
    "dog.move() # Output: The dog walks on four legs."
   ]
  },
  {
   "cell_type": "markdown",
   "id": "3b6b893c-8524-4125-9741-110dcfee1f22",
   "metadata": {},
   "source": [
    "Q4:-Ans\n",
    "Data abstraction can be achieved in object-oriented programming by using access modifiers such as private, protected, and public, which control the access to the class members from outside the class.\n",
    "\n",
    "In Python, access modifiers are not explicitly defined like in other programming languages such as Java or C++. However, data abstraction can still be achieved in Python through the use of naming conventions and the property decorator."
   ]
  },
  {
   "cell_type": "code",
   "execution_count": 8,
   "id": "665e2c01-de78-45f0-9847-5f1f8a3556e3",
   "metadata": {},
   "outputs": [
    {
     "name": "stdout",
     "output_type": "stream",
     "text": [
      "1000\n"
     ]
    }
   ],
   "source": [
    "class BankAccount:\n",
    "    def __init__(self):\n",
    "        self._balance = 0\n",
    "\n",
    "    @property\n",
    "    def balance(self):\n",
    "        return self._balance\n",
    "\n",
    "    @balance.setter\n",
    "    def balance(self, value):\n",
    "        if value < 0:\n",
    "            raise ValueError(\"Balance cannot be negative\")\n",
    "        self._balance = value\n",
    "\n",
    "account = BankAccount()\n",
    "account.balance = 1000  # Sets the balance to 1000\n",
    "print(account.balance)  # Output: 1000\n"
   ]
  },
  {
   "cell_type": "markdown",
   "id": "12b2e33e-ab3c-4aea-bfd1-36d4a682f0d4",
   "metadata": {},
   "source": [
    "Q5:-Ans\n",
    "No, we cannot create an instance of an abstract class in Python. An abstract class is a class that cannot be instantiated and is meant to be subclassed by other classes. It contains one or more abstract methods, which are methods that have no implementation and are meant to be overridden by the subclasses.\n",
    "\n",
    "When we try to create an instance of an abstract class, a TypeError will be raised with the message \"Can't instantiate abstract class <class name> with abstract methods <method names>\". This is because an abstract class is incomplete and cannot be used on its own. It needs to be subclassed and its abstract methods must be overridden in the subclass."
   ]
  }
 ],
 "metadata": {
  "kernelspec": {
   "display_name": "Python 3 (ipykernel)",
   "language": "python",
   "name": "python3"
  },
  "language_info": {
   "codemirror_mode": {
    "name": "ipython",
    "version": 3
   },
   "file_extension": ".py",
   "mimetype": "text/x-python",
   "name": "python",
   "nbconvert_exporter": "python",
   "pygments_lexer": "ipython3",
   "version": "3.10.8"
  }
 },
 "nbformat": 4,
 "nbformat_minor": 5
}
